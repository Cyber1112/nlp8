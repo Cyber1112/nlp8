{
 "cells": [
  {
   "cell_type": "code",
   "execution_count": 57,
   "metadata": {
    "collapsed": true
   },
   "outputs": [],
   "source": [
    "import spacy\n",
    "import re"
   ]
  },
  {
   "cell_type": "code",
   "execution_count": 58,
   "outputs": [],
   "source": [
    "nlp = spacy.load(\"en_core_web_sm\")\n",
    "\n",
    "text = \"Polls had predicted Bolsonaro's performance to be lower ahead of the first round, but they were, within the margin of error, accurate in the percentage of votes that Lula da Silva could receive. Now, in this final stage of a deeply polarized contest, some of the research institutes that conduct these polls are drawing attention to the choices being made by women voters.\"\n",
    "\n",
    "doc = nlp(text)"
   ],
   "metadata": {
    "collapsed": false
   }
  },
  {
   "cell_type": "code",
   "execution_count": 59,
   "outputs": [],
   "source": [
    "entities = [(ent.text, ent.start_char, ent.end_char) for ent in doc.ents]\n",
    "\n",
    "# Sort entities by their start index in descending order\n",
    "entities.sort(key=lambda x: x[1], reverse=True)\n"
   ],
   "metadata": {
    "collapsed": false
   }
  },
  {
   "cell_type": "code",
   "execution_count": 60,
   "outputs": [
    {
     "name": "stdout",
     "output_type": "stream",
     "text": [
      "Polls had predicted <a href=\"Bolsonaro\">Bolsonaro</a>'s performance to be lower ahead of the <a href=\"first\">first</a> round, but they were, within the margin of error, accurate in the percentage of votes that <a href=\"https://example.com/lula_da_silva\">Lula da Silva</a> could receive. Now, in this final stage of a deeply polarized contest, some of the research institutes that conduct these polls are drawing attention to the choices being made by women voters.\n"
     ]
    }
   ],
   "source": [
    "for entity, start, end in entities:\n",
    "    url = \"https://example.com/\" + re.sub(r'\\s+', '_', entity.lower()) if len(entity.split()) > 1 else entity\n",
    "\n",
    "    # Wrap the entity with <a href=\"\"></a> tags\n",
    "    text = text[:start] + f'<a href=\"{url}\">' + text[start:end] + '</a>' + text[end:]\n",
    "\n",
    "print(text)"
   ],
   "metadata": {
    "collapsed": false
   }
  },
  {
   "cell_type": "code",
   "execution_count": null,
   "outputs": [],
   "source": [],
   "metadata": {
    "collapsed": false
   }
  }
 ],
 "metadata": {
  "kernelspec": {
   "display_name": "Python 3",
   "language": "python",
   "name": "python3"
  },
  "language_info": {
   "codemirror_mode": {
    "name": "ipython",
    "version": 2
   },
   "file_extension": ".py",
   "mimetype": "text/x-python",
   "name": "python",
   "nbconvert_exporter": "python",
   "pygments_lexer": "ipython2",
   "version": "2.7.6"
  }
 },
 "nbformat": 4,
 "nbformat_minor": 0
}
